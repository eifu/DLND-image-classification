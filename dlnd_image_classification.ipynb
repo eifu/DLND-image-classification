{
 "cells": [
  {
   "cell_type": "markdown",
   "metadata": {
    "collapsed": true,
    "deletable": true,
    "editable": true
   },
   "source": [
    "# Image Classification\n",
    "In this project, you'll classify images from the [CIFAR-10 dataset](https://www.cs.toronto.edu/~kriz/cifar.html).  The dataset consists of airplanes, dogs, cats, and other objects. You'll preprocess the images, then train a convolutional neural network on all the samples. The images need to be normalized and the labels need to be one-hot encoded.  You'll get to apply what you learned and build a convolutional, max pooling, dropout, and fully connected layers.  At the end, you'll get to see your neural network's predictions on the sample images.\n",
    "## Get the Data\n",
    "Run the following cell to download the [CIFAR-10 dataset for python](https://www.cs.toronto.edu/~kriz/cifar-10-python.tar.gz)."
   ]
  },
  {
   "cell_type": "code",
   "execution_count": 61,
   "metadata": {
    "collapsed": false,
    "deletable": true,
    "editable": true
   },
   "outputs": [
    {
     "name": "stdout",
     "output_type": "stream",
     "text": [
      "All files found!\n"
     ]
    }
   ],
   "source": [
    "\"\"\"\n",
    "DON'T MODIFY ANYTHING IN THIS CELL THAT IS BELOW THIS LINE\n",
    "\"\"\"\n",
    "from urllib.request import urlretrieve\n",
    "from os.path import isfile, isdir\n",
    "from tqdm import tqdm\n",
    "import problem_unittests as tests\n",
    "import tarfile\n",
    "\n",
    "cifar10_dataset_folder_path = 'cifar-10-batches-py'\n",
    "\n",
    "class DLProgress(tqdm):\n",
    "    last_block = 0\n",
    "\n",
    "    def hook(self, block_num=1, block_size=1, total_size=None):\n",
    "        self.total = total_size\n",
    "        self.update((block_num - self.last_block) * block_size)\n",
    "        self.last_block = block_num\n",
    "\n",
    "if not isfile('cifar-10-python.tar.gz'):\n",
    "    with DLProgress(unit='B', unit_scale=True, miniters=1, desc='CIFAR-10 Dataset') as pbar:\n",
    "        urlretrieve(\n",
    "            'https://www.cs.toronto.edu/~kriz/cifar-10-python.tar.gz',\n",
    "            'cifar-10-python.tar.gz',\n",
    "            pbar.hook)\n",
    "\n",
    "if not isdir(cifar10_dataset_folder_path):\n",
    "    with tarfile.open('cifar-10-python.tar.gz') as tar:\n",
    "        tar.extractall()\n",
    "        tar.close()\n",
    "\n",
    "\n",
    "tests.test_folder_path(cifar10_dataset_folder_path)"
   ]
  },
  {
   "cell_type": "markdown",
   "metadata": {
    "deletable": true,
    "editable": true
   },
   "source": [
    "## Explore the Data\n",
    "The dataset is broken into batches to prevent your machine from running out of memory.  The CIFAR-10 dataset consists of 5 batches, named `data_batch_1`, `data_batch_2`, etc.. Each batch contains the labels and images that are one of the following:\n",
    "* airplane\n",
    "* automobile\n",
    "* bird\n",
    "* cat\n",
    "* deer\n",
    "* dog\n",
    "* frog\n",
    "* horse\n",
    "* ship\n",
    "* truck\n",
    "\n",
    "Understanding a dataset is part of making predictions on the data.  Play around with the code cell below by changing the `batch_id` and `sample_id`. The `batch_id` is the id for a batch (1-5). The `sample_id` is the id for a image and label pair in the batch.\n",
    "\n",
    "Ask yourself \"What are all possible labels?\", \"What is the range of values for the image data?\", \"Are the labels in order or random?\".  Answers to questions like these will help you preprocess the data and end up with better predictions."
   ]
  },
  {
   "cell_type": "code",
   "execution_count": 62,
   "metadata": {
    "collapsed": false,
    "deletable": true,
    "editable": true
   },
   "outputs": [
    {
     "name": "stdout",
     "output_type": "stream",
     "text": [
      "\n",
      "Stats of batch 2:\n",
      "Samples: 10000\n",
      "Label Counts: {0: 984, 1: 1007, 2: 1010, 3: 995, 4: 1010, 5: 988, 6: 1008, 7: 1026, 8: 987, 9: 985}\n",
      "First 20 Labels: [1, 6, 6, 8, 8, 3, 4, 6, 0, 6, 0, 3, 6, 6, 5, 4, 8, 3, 2, 6]\n",
      "\n",
      "Example of Image 2:\n",
      "Image - Min Value: 0 Max Value: 240\n",
      "Image - Shape: (32, 32, 3)\n",
      "Label - Label Id: 6 Name: frog\n"
     ]
    },
    {
     "data": {
      "image/png": "[encoded data removed]",
      "text/plain": [
       "<matplotlib.figure.Figure at 0x7f9b449e9128>"
      ]
     },
     "metadata": {
      "image/png": {
       "height": 250,
       "width": 253
      }
     },
     "output_type": "display_data"
    }
   ],
   "source": [
    "%matplotlib inline\n",
    "%config InlineBackend.figure_format = 'retina'\n",
    "\n",
    "import helper\n",
    "import numpy as np\n",
    "\n",
    "# Explore the dataset\n",
    "batch_id = 2\n",
    "sample_id = 2\n",
    "helper.display_stats(cifar10_dataset_folder_path, batch_id, sample_id)"
   ]
  },
  {
   "cell_type": "markdown",
   "metadata": {
    "deletable": true,
    "editable": true
   },
   "source": [
    "## Implement Preprocess Functions\n",
    "### Normalize\n",
    "In the cell below, implement the `normalize` function to take in image data, `x`, and return it as a normalized Numpy array. The values should be in the range of 0 to 1, inclusive.  The return object should be the same shape as `x`."
   ]
  },
  {
   "cell_type": "code",
   "execution_count": 63,
   "metadata": {
    "collapsed": false,
    "deletable": true,
    "editable": true
   },
   "outputs": [
    {
     "name": "stdout",
     "output_type": "stream",
     "text": [
      "Tests Passed\n"
     ]
    }
   ],
   "source": [
    "def normalize(x):\n",
    "    \"\"\"\n",
    "    Normalize a list of sample image data in the range of 0 to 1\n",
    "    : x: List of image data.  The image shape is (32, 32, 3)\n",
    "    : return: Numpy array of normalize data\n",
    "    \"\"\"\n",
    "    # TODO: Implement Function\n",
    "    return x/255\n",
    "\n",
    "\n",
    "\"\"\"\n",
    "DON'T MODIFY ANYTHING IN THIS CELL THAT IS BELOW THIS LINE\n",
    "\"\"\"\n",
    "tests.test_normalize(normalize)"
   ]
  },
  {
   "cell_type": "markdown",
   "metadata": {
    "deletable": true,
    "editable": true
   },
   "source": [
    "### One-hot encode\n",
    "Just like the previous code cell, you'll be implementing a function for preprocessing.  This time, you'll implement the `one_hot_encode` function. The input, `x`, are a list of labels.  Implement the function to return the list of labels as One-Hot encoded Numpy array.  The possible values for labels are 0 to 9. The one-hot encoding function should return the same encoding for each value between each call to `one_hot_encode`.  Make sure to save the map of encodings outside the function.\n",
    "\n",
    "Hint: Don't reinvent the wheel."
   ]
  },
  {
   "cell_type": "code",
   "execution_count": 64,
   "metadata": {
    "collapsed": false,
    "deletable": true,
    "editable": true
   },
   "outputs": [
    {
     "name": "stdout",
     "output_type": "stream",
     "text": [
      "Tests Passed\n"
     ]
    }
   ],
   "source": [
    "def one_hot_encode(x):\n",
    "    \"\"\"\n",
    "    One hot encode a list of sample labels. Return a one-hot encoded vector for each label.\n",
    "    : x: List of sample Labels\n",
    "    : return: Numpy array of one-hot encoded labels\n",
    "    \"\"\"\n",
    "    # TODO: Implement Function\n",
    "    one_hot = np.zeros((len(x), 10))\n",
    "    one_hot[np.arange(len(x)),x] = 1\n",
    "    return one_hot\n",
    "\n",
    "\n",
    "\"\"\"\n",
    "DON'T MODIFY ANYTHING IN THIS CELL THAT IS BELOW THIS LINE\n",
    "\"\"\"\n",
    "tests.test_one_hot_encode(one_hot_encode)"
   ]
  },
  {
   "cell_type": "markdown",
   "metadata": {
    "deletable": true,
    "editable": true
   },
   "source": [
    "### Randomize Data\n",
    "As you saw from exploring the data above, the order of the samples are randomized.  It doesn't hurt to randomize it again, but you don't need to for this dataset."
   ]
  },
  {
   "cell_type": "markdown",
   "metadata": {
    "deletable": true,
    "editable": true
   },
   "source": [
    "## Preprocess all the data and save it\n",
    "Running the code cell below will preprocess all the CIFAR-10 data and save it to file. The code below also uses 10% of the training data for validation."
   ]
  },
  {
   "cell_type": "code",
   "execution_count": 65,
   "metadata": {
    "collapsed": false,
    "deletable": true,
    "editable": true
   },
   "outputs": [],
   "source": [
    "\"\"\"\n",
    "DON'T MODIFY ANYTHING IN THIS CELL\n",
    "\"\"\"\n",
    "# Preprocess Training, Validation, and Testing Data\n",
    "helper.preprocess_and_save_data(cifar10_dataset_folder_path, normalize, one_hot_encode)"
   ]
  },
  {
   "cell_type": "markdown",
   "metadata": {
    "deletable": true,
    "editable": true
   },
   "source": [
    "# Check Point\n",
    "This is your first checkpoint.  If you ever decide to come back to this notebook or have to restart the notebook, you can start from here.  The preprocessed data has been saved to disk."
   ]
  },
  {
   "cell_type": "code",
   "execution_count": 66,
   "metadata": {
    "collapsed": true,
    "deletable": true,
    "editable": true
   },
   "outputs": [],
   "source": [
    "\"\"\"\n",
    "DON'T MODIFY ANYTHING IN THIS CELL\n",
    "\"\"\"\n",
    "import pickle\n",
    "import problem_unittests as tests\n",
    "import helper\n",
    "\n",
    "# Load the Preprocessed Validation data\n",
    "valid_features, valid_labels = pickle.load(open('preprocess_validation.p', mode='rb'))"
   ]
  },
  {
   "cell_type": "markdown",
   "metadata": {
    "deletable": true,
    "editable": true
   },
   "source": [
    "## Build the network\n",
    "For the neural network, you'll build each layer into a function.  Most of the code you've seen has been outside of functions. To test your code more thoroughly, we require that you put each layer in a function.  This allows us to give you better feedback and test for simple mistakes using our unittests before you submit your project.\n",
    "\n",
    ">**Note:** If you're finding it hard to dedicate enough time for this course each week, we've provided a small shortcut to this part of the project. In the next couple of problems, you'll have the option to use classes from the [TensorFlow Layers](https://www.tensorflow.org/api_docs/python/tf/layers) or [TensorFlow Layers (contrib)](https://www.tensorflow.org/api_guides/python/contrib.layers) packages to build each layer, except the layers you build in the \"Convolutional and Max Pooling Layer\" section.  TF Layers is similar to Keras's and TFLearn's abstraction to layers, so it's easy to pickup.\n",
    "\n",
    ">However, if you would like to get the most out of this course, try to solve all the problems _without_ using anything from the TF Layers packages. You **can** still use classes from other packages that happen to have the same name as ones you find in TF Layers! For example, instead of using the TF Layers version of the `conv2d` class, [tf.layers.conv2d](https://www.tensorflow.org/api_docs/python/tf/layers/conv2d), you would want to use the TF Neural Network version of `conv2d`, [tf.nn.conv2d](https://www.tensorflow.org/api_docs/python/tf/nn/conv2d). \n",
    "\n",
    "Let's begin!\n",
    "\n",
    "### Input\n",
    "The neural network needs to read the image data, one-hot encoded labels, and dropout keep probability. Implement the following functions\n",
    "* Implement `neural_net_image_input`\n",
    " * Return a [TF Placeholder](https://www.tensorflow.org/api_docs/python/tf/placeholder)\n",
    " * Set the shape using `image_shape` with batch size set to `None`.\n",
    " * Name the TensorFlow placeholder \"x\" using the TensorFlow `name` parameter in the [TF Placeholder](https://www.tensorflow.org/api_docs/python/tf/placeholder).\n",
    "* Implement `neural_net_label_input`\n",
    " * Return a [TF Placeholder](https://www.tensorflow.org/api_docs/python/tf/placeholder)\n",
    " * Set the shape using `n_classes` with batch size set to `None`.\n",
    " * Name the TensorFlow placeholder \"y\" using the TensorFlow `name` parameter in the [TF Placeholder](https://www.tensorflow.org/api_docs/python/tf/placeholder).\n",
    "* Implement `neural_net_keep_prob_input`\n",
    " * Return a [TF Placeholder](https://www.tensorflow.org/api_docs/python/tf/placeholder) for dropout keep probability.\n",
    " * Name the TensorFlow placeholder \"keep_prob\" using the TensorFlow `name` parameter in the [TF Placeholder](https://www.tensorflow.org/api_docs/python/tf/placeholder).\n",
    "\n",
    "These names will be used at the end of the project to load your saved model.\n",
    "\n",
    "Note: `None` for shapes in TensorFlow allow for a dynamic size."
   ]
  },
  {
   "cell_type": "code",
   "execution_count": 67,
   "metadata": {
    "collapsed": false,
    "deletable": true,
    "editable": true
   },
   "outputs": [
    {
     "name": "stdout",
     "output_type": "stream",
     "text": [
      "Image Input Tests Passed.\n",
      "Label Input Tests Passed.\n",
      "Keep Prob Tests Passed.\n"
     ]
    }
   ],
   "source": [
    "import tensorflow as tf\n",
    "\n",
    "def neural_net_image_input(image_shape):\n",
    "    \"\"\"\n",
    "    Return a Tensor for a batch of image input\n",
    "    : image_shape: Shape of the images\n",
    "    : return: Tensor for image input.\n",
    "    \"\"\"\n",
    "    # TODO: Implement Function\n",
    "    return tf.placeholder(tf.float32, shape= ([None]+ list(image_shape)),name='x')\n",
    "\n",
    "\n",
    "def neural_net_label_input(n_classes):\n",
    "    \"\"\"\n",
    "    Return a Tensor for a batch of label input\n",
    "    : n_classes: Number of classes\n",
    "    : return: Tensor for label input.\n",
    "    \"\"\"\n",
    "    # TODO: Implement Function\n",
    "    return tf.placeholder(tf.float32, shape=[None, n_classes],name='y')\n",
    "\n",
    "\n",
    "def neural_net_keep_prob_input():\n",
    "    \"\"\"\n",
    "    Return a Tensor for keep probability\n",
    "    : return: Tensor for keep probability.\n",
    "    \"\"\"\n",
    "    # TODO: Implement Function\n",
    "    return tf.placeholder(tf.float32, name=\"keep_prob\" )\n",
    "\n",
    "\n",
    "\"\"\"\n",
    "DON'T MODIFY ANYTHING IN THIS CELL THAT IS BELOW THIS LINE\n",
    "\"\"\"\n",
    "tf.reset_default_graph()\n",
    "tests.test_nn_image_inputs(neural_net_image_input)\n",
    "tests.test_nn_label_inputs(neural_net_label_input)\n",
    "tests.test_nn_keep_prob_inputs(neural_net_keep_prob_input)"
   ]
  },
  {
   "cell_type": "markdown",
   "metadata": {
    "deletable": true,
    "editable": true
   },
   "source": [
    "### Convolution and Max Pooling Layer\n",
    "Convolution layers have a lot of success with images. For this code cell, you should implement the function `conv2d_maxpool` to apply convolution then max pooling:\n",
    "* Create the weight and bias using `conv_ksize`, `conv_num_outputs` and the shape of `x_tensor`.\n",
    "* Apply a convolution to `x_tensor` using weight and `conv_strides`.\n",
    " * We recommend you use same padding, but you're welcome to use any padding.\n",
    "* Add bias\n",
    "* Add a nonlinear activation to the convolution.\n",
    "* Apply Max Pooling using `pool_ksize` and `pool_strides`.\n",
    " * We recommend you use same padding, but you're welcome to use any padding.\n",
    "\n",
    "**Note:** You **can't** use [TensorFlow Layers](https://www.tensorflow.org/api_docs/python/tf/layers) or [TensorFlow Layers (contrib)](https://www.tensorflow.org/api_guides/python/contrib.layers) for **this** layer, but you can still use TensorFlow's [Neural Network](https://www.tensorflow.org/api_docs/python/tf/nn) package. You may still use the shortcut option for all the **other** layers."
   ]
  },
  {
   "cell_type": "code",
   "execution_count": 69,
   "metadata": {
    "collapsed": false,
    "deletable": true,
    "editable": true
   },
   "outputs": [
    {
     "name": "stdout",
     "output_type": "stream",
     "text": [
      "Tests Passed\n"
     ]
    }
   ],
   "source": [
    "def conv2d_maxpool(x_tensor, conv_num_outputs, conv_ksize, conv_strides, pool_ksize, pool_strides):\n",
    "    \"\"\"\n",
    "    Apply convolution then max pooling to x_tensor\n",
    "    :param x_tensor: TensorFlow Tensor\n",
    "    :param conv_num_outputs: Number of outputs for the convolutional layer\n",
    "    :param conv_ksize: kernal size 2-D Tuple for the convolutional layer\n",
    "    :param conv_strides: Stride 2-D Tuple for convolution\n",
    "    :param pool_ksize: kernal size 2-D Tuple for pool\n",
    "    :param pool_strides: Stride 2-D Tuple for pool\n",
    "    : return: A tensor that represents convolution and max pooling of x_tensor\n",
    "    \"\"\"\n",
    "    # TODO: Implement Function\n",
    "    weight = tf.Variable(tf.random_normal([conv_ksize[0],conv_ksize[1], x_tensor.get_shape().as_list() [-1] , conv_num_outputs],mean=0.0, stddev=0.01))\n",
    "    bias = tf.Variable(tf.zeros(conv_num_outputs))\n",
    "\n",
    "    layer = tf.nn.conv2d(x_tensor, weight, [1,conv_strides[0],conv_strides[1],1], 'SAME')\n",
    "    layer = tf.nn.bias_add(layer, bias)\n",
    "    layer = tf.nn.relu(layer)\n",
    "    \n",
    "    return tf.nn.max_pool(layer, ksize=[1, pool_ksize[0], pool_ksize[1], 1], strides=[1, pool_strides[0], pool_strides[1], 1], padding='SAME')\n",
    "\n",
    "\n",
    "\n",
    "\"\"\"\n",
    "DON'T MODIFY ANYTHING IN THIS CELL THAT IS BELOW THIS LINE\n",
    "\"\"\"\n",
    "tests.test_con_pool(conv2d_maxpool)"
   ]
  },
  {
   "cell_type": "markdown",
   "metadata": {
    "deletable": true,
    "editable": true
   },
   "source": [
    "### Flatten Layer\n",
    "Implement the `flatten` function to change the dimension of `x_tensor` from a 4-D tensor to a 2-D tensor.  The output should be the shape (*Batch Size*, *Flattened Image Size*). Shortcut option: you can use classes from the [TensorFlow Layers](https://www.tensorflow.org/api_docs/python/tf/layers) or [TensorFlow Layers (contrib)](https://www.tensorflow.org/api_guides/python/contrib.layers) packages for this layer. For more of a challenge, only use other TensorFlow packages."
   ]
  },
  {
   "cell_type": "code",
   "execution_count": 70,
   "metadata": {
    "collapsed": false,
    "deletable": true,
    "editable": true
   },
   "outputs": [
    {
     "name": "stdout",
     "output_type": "stream",
     "text": [
      "Tests Passed\n"
     ]
    }
   ],
   "source": [
    "def flatten(x_tensor):\n",
    "    \"\"\"\n",
    "    Flatten x_tensor to (Batch Size, Flattened Image Size)\n",
    "    : x_tensor: A tensor of size (Batch Size, ...), where ... are the image dimensions.\n",
    "    : return: A tensor of size (Batch Size, Flattened Image Size).\n",
    "    \"\"\"\n",
    "    # TODO: Implement Function\n",
    "    s = x_tensor.get_shape().as_list() \n",
    "    x_size = s[1] * s[2] * s[3]  # s[0] is batch\n",
    "    return tf.reshape(x_tensor, [-1, x_size])\n",
    "\n",
    "\"\"\"\n",
    "DON'T MODIFY ANYTHING IN THIS CELL THAT IS BELOW THIS LINE\n",
    "\"\"\"\n",
    "tests.test_flatten(flatten)"
   ]
  },
  {
   "cell_type": "markdown",
   "metadata": {
    "deletable": true,
    "editable": true
   },
   "source": [
    "### Fully-Connected Layer\n",
    "Implement the `fully_conn` function to apply a fully connected layer to `x_tensor` with the shape (*Batch Size*, *num_outputs*). Shortcut option: you can use classes from the [TensorFlow Layers](https://www.tensorflow.org/api_docs/python/tf/layers) or [TensorFlow Layers (contrib)](https://www.tensorflow.org/api_guides/python/contrib.layers) packages for this layer. For more of a challenge, only use other TensorFlow packages."
   ]
  },
  {
   "cell_type": "code",
   "execution_count": 71,
   "metadata": {
    "collapsed": false,
    "deletable": true,
    "editable": true
   },
   "outputs": [
    {
     "name": "stdout",
     "output_type": "stream",
     "text": [
      "Tests Passed\n"
     ]
    }
   ],
   "source": [
    "def fully_conn(x_tensor, num_outputs):\n",
    "    \"\"\"\n",
    "    Apply a fully connected layer to x_tensor using weight and bias\n",
    "    : x_tensor: A 2-D tensor where the first dimension is batch size.\n",
    "    : num_outputs: The number of output that the new tensor should be.\n",
    "    : return: A 2-D tensor where the second dimension is num_outputs.\n",
    "    \"\"\"\n",
    "    # TODO: Implement Function\n",
    "    dim = x_tensor.get_shape().as_list()[1]\n",
    "    weight = tf.Variable(tf.random_normal([dim, num_outputs], mean=0.0, stddev=0.01))\n",
    "    bias = tf.Variable(tf.zeros(num_outputs))\n",
    "    layer = tf.add(tf.matmul(x_tensor, weight), bias)\n",
    "    return tf.nn.relu(layer)\n",
    "\n",
    "\"\"\"\n",
    "DON'T MODIFY ANYTHING IN THIS CELL THAT IS BELOW THIS LINE\n",
    "\"\"\"\n",
    "tests.test_fully_conn(fully_conn)"
   ]
  },
  {
   "cell_type": "markdown",
   "metadata": {
    "deletable": true,
    "editable": true
   },
   "source": [
    "### Output Layer\n",
    "Implement the `output` function to apply a fully connected layer to `x_tensor` with the shape (*Batch Size*, *num_outputs*). Shortcut option: you can use classes from the [TensorFlow Layers](https://www.tensorflow.org/api_docs/python/tf/layers) or [TensorFlow Layers (contrib)](https://www.tensorflow.org/api_guides/python/contrib.layers) packages for this layer. For more of a challenge, only use other TensorFlow packages.\n",
    "\n",
    "**Note:** Activation, softmax, or cross entropy should **not** be applied to this."
   ]
  },
  {
   "cell_type": "code",
   "execution_count": 72,
   "metadata": {
    "collapsed": false,
    "deletable": true,
    "editable": true
   },
   "outputs": [
    {
     "name": "stdout",
     "output_type": "stream",
     "text": [
      "Tests Passed\n"
     ]
    }
   ],
   "source": [
    "def output(x_tensor, num_outputs):\n",
    "    \"\"\"\n",
    "    Apply a output layer to x_tensor using weight and bias\n",
    "    : x_tensor: A 2-D tensor where the first dimension is batch size.\n",
    "    : num_outputs: The number of output that the new tensor should be.\n",
    "    : return: A 2-D tensor where the second dimension is num_outputs.\n",
    "    \"\"\"\n",
    "    # TODO: Implement Function\n",
    "    weight = tf.Variable(tf.random_normal([x_tensor.get_shape().as_list()[1], num_outputs], mean=0.0, stddev=0.05))\n",
    "    bias = tf.Variable(tf.random_normal([num_outputs]))\n",
    "    return tf.add(tf.matmul(x_tensor, weight), bias)\n",
    "\n",
    "\"\"\"\n",
    "DON'T MODIFY ANYTHING IN THIS CELL THAT IS BELOW THIS LINE\n",
    "\"\"\"\n",
    "tests.test_output(output)"
   ]
  },
  {
   "cell_type": "markdown",
   "metadata": {
    "deletable": true,
    "editable": true
   },
   "source": [
    "### Create Convolutional Model\n",
    "Implement the function `conv_net` to create a convolutional neural network model. The function takes in a batch of images, `x`, and outputs logits.  Use the layers you created above to create this model:\n",
    "\n",
    "* Apply 1, 2, or 3 Convolution and Max Pool layers\n",
    "* Apply a Flatten Layer\n",
    "* Apply 1, 2, or 3 Fully Connected Layers\n",
    "* Apply an Output Layer\n",
    "* Return the output\n",
    "* Apply [TensorFlow's Dropout](https://www.tensorflow.org/api_docs/python/tf/nn/dropout) to one or more layers in the model using `keep_prob`. "
   ]
  },
  {
   "cell_type": "code",
   "execution_count": null,
   "metadata": {
    "collapsed": false,
    "deletable": true,
    "editable": true
   },
   "outputs": [],
   "source": [
    "def conv_net(x, keep_prob):\n",
    "    \"\"\"\n",
    "    Create a convolutional neural network model\n",
    "    : x: Placeholder tensor that holds image data.\n",
    "    : keep_prob: Placeholder tensor that hold dropout keep probability.\n",
    "    : return: Tensor that represents logits\n",
    "    \"\"\"\n",
    "    conv_outputs_layer1 = 256\n",
    "    conv_ksize_layer1 = (16, 16)\n",
    "    conv_strides_layer1 = (2, 2)\n",
    "    pool_ksize_layer1 = (4, 4)\n",
    "    pool_strides_layer1 = (2, 2)\n",
    "    conv_net = conv2d_maxpool(x, conv_outputs_layer1, conv_ksize_layer1, conv_strides_layer1, pool_ksize_layer1, pool_strides_layer1)\n",
    "    \n",
    "    conv_outputs_layer2 = 128\n",
    "    conv_ksize_layer2 = (8, 8)\n",
    "    conv_strides_layer2 = (2, 2)\n",
    "    pool_ksize_layer2 = (2, 2)\n",
    "    pool_strides_layer2 = (2, 2)\n",
    "    conv_net = conv2d_maxpool(conv_net, conv_outputs_layer2, conv_ksize_layer2, pool_strides_layer2,pool_ksize_layer2, pool_strides_layer2)\n",
    "    \n",
    "    conv_outputs_layer3 = 64\n",
    "    conv_ksize_layer3 = (2, 2)\n",
    "    conv_strides_layer3 = (1, 1)\n",
    "    pool_ksize_layer3 = (1, 1)\n",
    "    pool_strides_layer3 = (1, 1)\n",
    "    conv_net = conv2d_maxpool(conv_net, conv_outputs_layer3, conv_ksize_layer3, conv_strides_layer3, pool_ksize_layer3, pool_strides_layer3)\n",
    "    \n",
    "    # TODO: Apply a Flatten Layer\n",
    "    # Function Definition from Above:\n",
    "    #   flatten(x_tensor)\n",
    "    conv_net = flatten(conv_net)\n",
    "    \n",
    "\n",
    "    # TODO: Apply 1, 2, or 3 Fully Connected Layers\n",
    "    #    Play around with different number of outputs\n",
    "    # Function Definition from Above:\n",
    "    #   fully_conn(x_tensor, num_outputs)\n",
    "    conv_net = fully_conn(conv_net, 128)\n",
    "    conv_net = tf.nn.dropout(conv_net, keep_prob)\n",
    "    \n",
    "    conv_net = fully_conn(conv_net, 64)\n",
    "    conv_net = tf.nn.dropout(conv_net, keep_prob)\n",
    "    \n",
    "    \n",
    "    conv_net = fully_conn(conv_net, 256)\n",
    "    conv_net = tf.nn.dropout(conv_net, keep_prob)\n",
    "    \n",
    "    \n",
    "    # TODO: Apply an Output Layer\n",
    "    #    Set this to the number of classes\n",
    "    # Function Definition from Above:\n",
    "    #   output(x_tensor, num_outputs)\n",
    "    \n",
    "    \n",
    "    # TODO: return output\n",
    "    return output(conv_net, 10)\n",
    "\n",
    "\n",
    "\"\"\"\n",
    "DON'T MODIFY ANYTHING IN THIS CELL THAT IS BELOW THIS LINE\n",
    "\"\"\"\n",
    "\n",
    "##############################\n",
    "## Build the Neural Network ##\n",
    "##############################\n",
    "\n",
    "# Remove previous weights, bias, inputs, etc..\n",
    "tf.reset_default_graph()\n",
    "\n",
    "# Inputs\n",
    "x = neural_net_image_input((32, 32, 3))\n",
    "y = neural_net_label_input(10)\n",
    "keep_prob = neural_net_keep_prob_input()\n",
    "\n",
    "# Model\n",
    "logits = conv_net(x, keep_prob)\n",
    "\n",
    "# Name logits Tensor, so that is can be loaded from disk after training\n",
    "logits = tf.identity(logits, name='logits')\n",
    "\n",
    "# Loss and Optimizer\n",
    "cost = tf.reduce_mean(tf.nn.softmax_cross_entropy_with_logits(logits=logits, labels=y))\n",
    "optimizer = tf.train.AdamOptimizer().minimize(cost)\n",
    "\n",
    "# Accuracy\n",
    "correct_pred = tf.equal(tf.argmax(logits, 1), tf.argmax(y, 1))\n",
    "accuracy = tf.reduce_mean(tf.cast(correct_pred, tf.float32), name='accuracy')\n",
    "\n",
    "tests.test_conv_net(conv_net)"
   ]
  },
  {
   "cell_type": "markdown",
   "metadata": {
    "deletable": true,
    "editable": true
   },
   "source": [
    "## Train the Neural Network\n",
    "### Single Optimization\n",
    "Implement the function `train_neural_network` to do a single optimization.  The optimization should use `optimizer` to optimize in `session` with a `feed_dict` of the following:\n",
    "* `x` for image input\n",
    "* `y` for labels\n",
    "* `keep_prob` for keep probability for dropout\n",
    "\n",
    "This function will be called for each batch, so `tf.global_variables_initializer()` has already been called.\n",
    "\n",
    "Note: Nothing needs to be returned. This function is only optimizing the neural network."
   ]
  },
  {
   "cell_type": "code",
   "execution_count": null,
   "metadata": {
    "collapsed": false,
    "deletable": true,
    "editable": true
   },
   "outputs": [],
   "source": [
    "def train_neural_network(session, optimizer, keep_probability, feature_batch, label_batch):\n",
    "    \"\"\"\n",
    "    Optimize the session on a batch of images and labels\n",
    "    : session: Current TensorFlow session\n",
    "    : optimizer: TensorFlow optimizer function\n",
    "    : keep_probability: keep probability\n",
    "    : feature_batch: Batch of Numpy image data\n",
    "    : label_batch: Batch of Numpy label data\n",
    "    \"\"\"\n",
    "    # TODO: Implement Function\n",
    "    optimizer = session.run(\n",
    "        [optimizer],\n",
    "        feed_dict={x: feature_batch, y: label_batch, keep_prob: keep_probability})\n",
    "    pass\n",
    "\n",
    "\n",
    "\"\"\"\n",
    "DON'T MODIFY ANYTHING IN THIS CELL THAT IS BELOW THIS LINE\n",
    "\"\"\"\n",
    "tests.test_train_nn(train_neural_network)"
   ]
  },
  {
   "cell_type": "markdown",
   "metadata": {
    "deletable": true,
    "editable": true
   },
   "source": [
    "### Show Stats\n",
    "Implement the function `print_stats` to print loss and validation accuracy.  Use the global variables `valid_features` and `valid_labels` to calculate validation accuracy.  Use a keep probability of `1.0` to calculate the loss and validation accuracy."
   ]
  },
  {
   "cell_type": "code",
   "execution_count": null,
   "metadata": {
    "collapsed": false,
    "deletable": true,
    "editable": true
   },
   "outputs": [],
   "source": [
    "def print_stats(session, feature_batch, label_batch, cost, accuracy):\n",
    "    \"\"\"\n",
    "    Print information about loss and validation accuracy\n",
    "    : session: Current TensorFlow session\n",
    "    : feature_batch: Batch of Numpy image data\n",
    "    : label_batch: Batch of Numpy label data\n",
    "    : cost: TensorFlow cost function\n",
    "    : accuracy: TensorFlow accuracy function\n",
    "    \"\"\"\n",
    "    # TODO: Implement Function\n",
    "    loss = session.run(cost, feed_dict={x: feature_batch, y: label_batch, keep_prob: 1.})\n",
    "    accuracy = session.run(accuracy, feed_dict={x: valid_features, y: valid_labels, keep_prob: 1.})\n",
    "\n",
    "    print('Accuracy: {:.5f}, Loss: {:>5.4f} Validation'.format(accuracy,loss))\n",
    "    pass"
   ]
  },
  {
   "cell_type": "markdown",
   "metadata": {
    "deletable": true,
    "editable": true
   },
   "source": [
    "### Hyperparameters\n",
    "Tune the following parameters:\n",
    "* Set `epochs` to the number of iterations until the network stops learning or start overfitting\n",
    "* Set `batch_size` to the highest number that your machine has memory for.  Most people set them to common sizes of memory:\n",
    " * 64\n",
    " * 128\n",
    " * 256\n",
    " * ...\n",
    "* Set `keep_probability` to the probability of keeping a node using dropout"
   ]
  },
  {
   "cell_type": "code",
   "execution_count": 83,
   "metadata": {
    "collapsed": true,
    "deletable": true,
    "editable": true
   },
   "outputs": [],
   "source": [
    "# TODO: Tune Parameters\n",
    "epochs = 32\n",
    "batch_size = 256\n",
    "keep_probability = 0.3"
   ]
  },
  {
   "cell_type": "markdown",
   "metadata": {
    "deletable": true,
    "editable": true
   },
   "source": [
    "### Train on a Single CIFAR-10 Batch\n",
    "Instead of training the neural network on all the CIFAR-10 batches of data, let's use a single batch. This should save time while you iterate on the model to get a better accuracy.  Once the final validation accuracy is 50% or greater, run the model on all the data in the next section."
   ]
  },
  {
   "cell_type": "code",
   "execution_count": 84,
   "metadata": {
    "collapsed": false,
    "deletable": true,
    "editable": true
   },
   "outputs": [
    {
     "name": "stdout",
     "output_type": "stream",
     "text": [
      "Checking the Training on a Single Batch...\n",
      "Epoch  1, CIFAR-10 Batch 1:  Accuracy: 0.13380, Loss:     2.2889 Validation\n",
      "Epoch  2, CIFAR-10 Batch 1:  Accuracy: 0.16140, Loss:     2.2426 Validation\n",
      "Epoch  3, CIFAR-10 Batch 1:  Accuracy: 0.16780, Loss:     2.2599 Validation\n",
      "Epoch  4, CIFAR-10 Batch 1:  Accuracy: 0.17040, Loss:     2.1883 Validation\n",
      "Epoch  5, CIFAR-10 Batch 1:  Accuracy: 0.16640, Loss:     2.1950 Validation\n",
      "Epoch  6, CIFAR-10 Batch 1:  Accuracy: 0.17980, Loss:     2.0867 Validation\n",
      "Epoch  7, CIFAR-10 Batch 1:  Accuracy: 0.19360, Loss:     2.0819 Validation\n",
      "Epoch  8, CIFAR-10 Batch 1:  Accuracy: 0.20920, Loss:     2.0116 Validation\n",
      "Epoch  9, CIFAR-10 Batch 1:  Accuracy: 0.20820, Loss:     2.0141 Validation\n",
      "Epoch 10, CIFAR-10 Batch 1:  Accuracy: 0.22660, Loss:     1.9682 Validation\n",
      "Epoch 11, CIFAR-10 Batch 1:  Accuracy: 0.24380, Loss:     1.9201 Validation\n",
      "Epoch 12, CIFAR-10 Batch 1:  Accuracy: 0.25620, Loss:     1.9134 Validation\n",
      "Epoch 13, CIFAR-10 Batch 1:  Accuracy: 0.25680, Loss:     1.8677 Validation\n",
      "Epoch 14, CIFAR-10 Batch 1:  Accuracy: 0.27660, Loss:     1.8249 Validation\n",
      "Epoch 15, CIFAR-10 Batch 1:  Accuracy: 0.27380, Loss:     1.8078 Validation\n",
      "Epoch 16, CIFAR-10 Batch 1:  Accuracy: 0.27920, Loss:     1.7989 Validation\n",
      "Epoch 17, CIFAR-10 Batch 1:  Accuracy: 0.29800, Loss:     1.7519 Validation\n",
      "Epoch 18, CIFAR-10 Batch 1:  Accuracy: 0.30000, Loss:     1.6733 Validation\n",
      "Epoch 19, CIFAR-10 Batch 1:  Accuracy: 0.31660, Loss:     1.6022 Validation\n",
      "Epoch 20, CIFAR-10 Batch 1:  Accuracy: 0.32320, Loss:     1.6192 Validation\n",
      "Epoch 21, CIFAR-10 Batch 1:  Accuracy: 0.32060, Loss:     1.5712 Validation\n",
      "Epoch 22, CIFAR-10 Batch 1:  Accuracy: 0.32120, Loss:     1.5565 Validation\n",
      "Epoch 23, CIFAR-10 Batch 1:  Accuracy: 0.32380, Loss:     1.5304 Validation\n",
      "Epoch 24, CIFAR-10 Batch 1:  Accuracy: 0.32920, Loss:     1.4749 Validation\n",
      "Epoch 25, CIFAR-10 Batch 1:  Accuracy: 0.32660, Loss:     1.4947 Validation\n",
      "Epoch 26, CIFAR-10 Batch 1:  Accuracy: 0.32460, Loss:     1.3982 Validation\n",
      "Epoch 27, CIFAR-10 Batch 1:  Accuracy: 0.35800, Loss:     1.3033 Validation\n",
      "Epoch 28, CIFAR-10 Batch 1:  Accuracy: 0.35180, Loss:     1.2420 Validation\n",
      "Epoch 29, CIFAR-10 Batch 1:  Accuracy: 0.35900, Loss:     1.2721 Validation\n",
      "Epoch 30, CIFAR-10 Batch 1:  Accuracy: 0.35740, Loss:     1.1562 Validation\n",
      "Epoch 31, CIFAR-10 Batch 1:  Accuracy: 0.37200, Loss:     1.1191 Validation\n",
      "Epoch 32, CIFAR-10 Batch 1:  Accuracy: 0.37280, Loss:     1.1133 Validation\n"
     ]
    }
   ],
   "source": [
    "\"\"\"\n",
    "DON'T MODIFY ANYTHING IN THIS CELL\n",
    "\"\"\"\n",
    "print('Checking the Training on a Single Batch...')\n",
    "with tf.Session() as sess:\n",
    "    # Initializing the variables\n",
    "    sess.run(tf.global_variables_initializer())\n",
    "    \n",
    "    # Training cycle\n",
    "    for epoch in range(epochs):\n",
    "        batch_i = 1\n",
    "        for batch_features, batch_labels in helper.load_preprocess_training_batch(batch_i, batch_size):\n",
    "            train_neural_network(sess, optimizer, keep_probability, batch_features, batch_labels)\n",
    "        print('Epoch {:>2}, CIFAR-10 Batch {}:  '.format(epoch + 1, batch_i), end='')\n",
    "        print_stats(sess, batch_features, batch_labels, cost, accuracy)"
   ]
  },
  {
   "cell_type": "markdown",
   "metadata": {
    "deletable": true,
    "editable": true
   },
   "source": [
    "### Fully Train the Model\n",
    "Now that you got a good accuracy with a single CIFAR-10 batch, try it with all five batches."
   ]
  },
  {
   "cell_type": "code",
   "execution_count": 82,
   "metadata": {
    "collapsed": false,
    "deletable": true,
    "editable": true
   },
   "outputs": [
    {
     "name": "stdout",
     "output_type": "stream",
     "text": [
      "Training...\n",
      "Epoch  1, CIFAR-10 Batch 1:  Accuracy: 0.09900, Loss:     2.2764 Validation\n",
      "Epoch  1, CIFAR-10 Batch 2:  Accuracy: 0.12760, Loss:     2.3018 Validation\n",
      "Epoch  1, CIFAR-10 Batch 3:  Accuracy: 0.10920, Loss:     2.2876 Validation\n",
      "Epoch  1, CIFAR-10 Batch 4:  Accuracy: 0.16260, Loss:     2.2801 Validation\n",
      "Epoch  1, CIFAR-10 Batch 5:  Accuracy: 0.19220, Loss:     2.2732 Validation\n",
      "Epoch  2, CIFAR-10 Batch 1:  Accuracy: 0.17020, Loss:     2.2999 Validation\n",
      "Epoch  2, CIFAR-10 Batch 2:  Accuracy: 0.18620, Loss:     2.1156 Validation\n",
      "Epoch  2, CIFAR-10 Batch 3:  Accuracy: 0.18640, Loss:     2.0007 Validation\n",
      "Epoch  2, CIFAR-10 Batch 4:  Accuracy: 0.20420, Loss:     2.0817 Validation\n",
      "Epoch  2, CIFAR-10 Batch 5:  Accuracy: 0.20740, Loss:     1.9938 Validation\n",
      "Epoch  3, CIFAR-10 Batch 1:  Accuracy: 0.13560, Loss:     2.3148 Validation\n",
      "Epoch  3, CIFAR-10 Batch 2:  Accuracy: 0.20580, Loss:     1.9861 Validation\n",
      "Epoch  3, CIFAR-10 Batch 3:  Accuracy: 0.20600, Loss:     1.8193 Validation\n",
      "Epoch  3, CIFAR-10 Batch 4:  Accuracy: 0.21100, Loss:     1.9981 Validation\n",
      "Epoch  3, CIFAR-10 Batch 5:  Accuracy: 0.20580, Loss:     1.8885 Validation\n",
      "Epoch  4, CIFAR-10 Batch 1:  Accuracy: 0.18520, Loss:     2.2116 Validation\n",
      "Epoch  4, CIFAR-10 Batch 2:  Accuracy: 0.20700, Loss:     1.9951 Validation\n",
      "Epoch  4, CIFAR-10 Batch 3:  Accuracy: 0.20400, Loss:     1.7009 Validation\n",
      "Epoch  4, CIFAR-10 Batch 4:  Accuracy: 0.20480, Loss:     1.9518 Validation\n",
      "Epoch  4, CIFAR-10 Batch 5:  Accuracy: 0.21300, Loss:     1.8625 Validation\n",
      "Epoch  5, CIFAR-10 Batch 1:  Accuracy: 0.21400, Loss:     2.1680 Validation\n",
      "Epoch  5, CIFAR-10 Batch 2:  Accuracy: 0.20260, Loss:     2.0227 Validation\n",
      "Epoch  5, CIFAR-10 Batch 3:  Accuracy: 0.21980, Loss:     1.7505 Validation\n",
      "Epoch  5, CIFAR-10 Batch 4:  Accuracy: 0.21640, Loss:     1.9113 Validation\n",
      "Epoch  5, CIFAR-10 Batch 5:  Accuracy: 0.21700, Loss:     1.9051 Validation\n",
      "Epoch  6, CIFAR-10 Batch 1:  Accuracy: 0.23080, Loss:     2.1176 Validation\n",
      "Epoch  6, CIFAR-10 Batch 2:  Accuracy: 0.21240, Loss:     1.9864 Validation\n",
      "Epoch  6, CIFAR-10 Batch 3:  Accuracy: 0.22000, Loss:     1.7161 Validation\n",
      "Epoch  6, CIFAR-10 Batch 4:  Accuracy: 0.22880, Loss:     1.9246 Validation\n",
      "Epoch  6, CIFAR-10 Batch 5:  Accuracy: 0.22320, Loss:     1.8152 Validation\n",
      "Epoch  7, CIFAR-10 Batch 1:  Accuracy: 0.24140, Loss:     2.0493 Validation\n",
      "Epoch  7, CIFAR-10 Batch 2:  Accuracy: 0.24060, Loss:     1.9762 Validation\n",
      "Epoch  7, CIFAR-10 Batch 3:  Accuracy: 0.23200, Loss:     1.6755 Validation\n",
      "Epoch  7, CIFAR-10 Batch 4:  Accuracy: 0.25100, Loss:     1.8587 Validation\n",
      "Epoch  7, CIFAR-10 Batch 5:  Accuracy: 0.23960, Loss:     1.8145 Validation\n",
      "Epoch  8, CIFAR-10 Batch 1:  Accuracy: 0.23900, Loss:     2.0392 Validation\n",
      "Epoch  8, CIFAR-10 Batch 2:  Accuracy: 0.23320, Loss:     1.9930 Validation\n",
      "Epoch  8, CIFAR-10 Batch 3:  Accuracy: 0.22420, Loss:     1.6585 Validation\n",
      "Epoch  8, CIFAR-10 Batch 4:  Accuracy: 0.24460, Loss:     1.8911 Validation\n",
      "Epoch  8, CIFAR-10 Batch 5:  Accuracy: 0.24480, Loss:     1.7861 Validation\n",
      "Epoch  9, CIFAR-10 Batch 1:  Accuracy: 0.24360, Loss:     1.9509 Validation\n",
      "Epoch  9, CIFAR-10 Batch 2:  Accuracy: 0.25260, Loss:     2.0130 Validation\n",
      "Epoch  9, CIFAR-10 Batch 3:  Accuracy: 0.23860, Loss:     1.6485 Validation\n",
      "Epoch  9, CIFAR-10 Batch 4:  Accuracy: 0.26700, Loss:     1.8192 Validation\n",
      "Epoch  9, CIFAR-10 Batch 5:  Accuracy: 0.27420, Loss:     1.7228 Validation\n",
      "Epoch 10, CIFAR-10 Batch 1:  Accuracy: 0.25920, Loss:     1.9251 Validation\n",
      "Epoch 10, CIFAR-10 Batch 2:  Accuracy: 0.25140, Loss:     1.9281 Validation\n",
      "Epoch 10, CIFAR-10 Batch 3:  Accuracy: 0.25000, Loss:     1.6435 Validation\n",
      "Epoch 10, CIFAR-10 Batch 4:  Accuracy: 0.27440, Loss:     1.8039 Validation\n",
      "Epoch 10, CIFAR-10 Batch 5:  Accuracy: 0.27720, Loss:     1.6965 Validation\n",
      "Epoch 11, CIFAR-10 Batch 1:  Accuracy: 0.26560, Loss:     1.9821 Validation\n",
      "Epoch 11, CIFAR-10 Batch 2:  Accuracy: 0.27740, Loss:     1.8688 Validation\n",
      "Epoch 11, CIFAR-10 Batch 3:  Accuracy: 0.26700, Loss:     1.6232 Validation\n",
      "Epoch 11, CIFAR-10 Batch 4:  Accuracy: 0.27200, Loss:     1.8068 Validation\n",
      "Epoch 11, CIFAR-10 Batch 5:  Accuracy: 0.27000, Loss:     1.6435 Validation\n",
      "Epoch 12, CIFAR-10 Batch 1:  Accuracy: 0.28400, Loss:     1.8595 Validation\n",
      "Epoch 12, CIFAR-10 Batch 2:  Accuracy: 0.27820, Loss:     1.7666 Validation\n",
      "Epoch 12, CIFAR-10 Batch 3:  Accuracy: 0.27780, Loss:     1.5825 Validation\n",
      "Epoch 12, CIFAR-10 Batch 4:  Accuracy: 0.28980, Loss:     1.7555 Validation\n",
      "Epoch 12, CIFAR-10 Batch 5:  Accuracy: 0.29320, Loss:     1.6858 Validation\n",
      "Epoch 13, CIFAR-10 Batch 1:  Accuracy: 0.30060, Loss:     1.8310 Validation\n",
      "Epoch 13, CIFAR-10 Batch 2:  Accuracy: 0.27620, Loss:     1.7356 Validation\n",
      "Epoch 13, CIFAR-10 Batch 3:  Accuracy: 0.29160, Loss:     1.5549 Validation\n",
      "Epoch 13, CIFAR-10 Batch 4:  Accuracy: 0.29540, Loss:     1.7669 Validation\n",
      "Epoch 13, CIFAR-10 Batch 5:  Accuracy: 0.30580, Loss:     1.6231 Validation\n",
      "Epoch 14, CIFAR-10 Batch 1:  Accuracy: 0.30900, Loss:     1.7836 Validation\n",
      "Epoch 14, CIFAR-10 Batch 2:  Accuracy: 0.30320, Loss:     1.7206 Validation\n",
      "Epoch 14, CIFAR-10 Batch 3:  Accuracy: 0.29780, Loss:     1.5108 Validation\n",
      "Epoch 14, CIFAR-10 Batch 4:  Accuracy: 0.29760, Loss:     1.6838 Validation\n",
      "Epoch 14, CIFAR-10 Batch 5:  Accuracy: 0.29580, Loss:     1.5499 Validation\n",
      "Epoch 15, CIFAR-10 Batch 1:  Accuracy: 0.28940, Loss:     1.7202 Validation\n",
      "Epoch 15, CIFAR-10 Batch 2:  Accuracy: 0.31240, Loss:     1.7147 Validation\n",
      "Epoch 15, CIFAR-10 Batch 3:  Accuracy: 0.29320, Loss:     1.5505 Validation\n",
      "Epoch 15, CIFAR-10 Batch 4:  Accuracy: 0.31320, Loss:     1.6347 Validation\n",
      "Epoch 15, CIFAR-10 Batch 5:  Accuracy: 0.31120, Loss:     1.5092 Validation\n",
      "Epoch 16, CIFAR-10 Batch 1:  Accuracy: 0.31880, Loss:     1.7714 Validation\n",
      "Epoch 16, CIFAR-10 Batch 2:  Accuracy: 0.32000, Loss:     1.6781 Validation\n",
      "Epoch 16, CIFAR-10 Batch 3:  Accuracy: 0.30280, Loss:     1.4892 Validation\n",
      "Epoch 16, CIFAR-10 Batch 4:  Accuracy: 0.31820, Loss:     1.6646 Validation\n",
      "Epoch 16, CIFAR-10 Batch 5:  Accuracy: 0.31380, Loss:     1.4985 Validation\n",
      "Epoch 17, CIFAR-10 Batch 1:  Accuracy: 0.32440, Loss:     1.6881 Validation\n",
      "Epoch 17, CIFAR-10 Batch 2:  Accuracy: 0.32740, Loss:     1.6286 Validation\n",
      "Epoch 17, CIFAR-10 Batch 3:  Accuracy: 0.32360, Loss:     1.5132 Validation\n",
      "Epoch 17, CIFAR-10 Batch 4:  Accuracy: 0.32600, Loss:     1.6423 Validation\n",
      "Epoch 17, CIFAR-10 Batch 5:  Accuracy: 0.31520, Loss:     1.5143 Validation\n",
      "Epoch 18, CIFAR-10 Batch 1:  Accuracy: 0.33140, Loss:     1.6637 Validation\n",
      "Epoch 18, CIFAR-10 Batch 2:  Accuracy: 0.31700, Loss:     1.6659 Validation\n",
      "Epoch 18, CIFAR-10 Batch 3:  Accuracy: 0.31420, Loss:     1.4482 Validation\n",
      "Epoch 18, CIFAR-10 Batch 4:  Accuracy: 0.32300, Loss:     1.6080 Validation\n",
      "Epoch 18, CIFAR-10 Batch 5:  Accuracy: 0.32720, Loss:     1.5035 Validation\n",
      "Epoch 19, CIFAR-10 Batch 1:  Accuracy: 0.32220, Loss:     1.7399 Validation\n",
      "Epoch 19, CIFAR-10 Batch 2:  Accuracy: 0.32660, Loss:     1.6466 Validation\n",
      "Epoch 19, CIFAR-10 Batch 3:  Accuracy: 0.32780, Loss:     1.4473 Validation\n",
      "Epoch 19, CIFAR-10 Batch 4:  Accuracy: 0.31860, Loss:     1.5547 Validation\n",
      "Epoch 19, CIFAR-10 Batch 5:  Accuracy: 0.32280, Loss:     1.4568 Validation\n",
      "Epoch 20, CIFAR-10 Batch 1:  Accuracy: 0.31060, Loss:     1.6480 Validation\n",
      "Epoch 20, CIFAR-10 Batch 2:  Accuracy: 0.33000, Loss:     1.6048 Validation\n",
      "Epoch 20, CIFAR-10 Batch 3:  Accuracy: 0.30220, Loss:     1.4662 Validation\n",
      "Epoch 20, CIFAR-10 Batch 4:  Accuracy: 0.31260, Loss:     1.5610 Validation\n",
      "Epoch 20, CIFAR-10 Batch 5:  Accuracy: 0.34300, Loss:     1.4137 Validation\n",
      "Epoch 21, CIFAR-10 Batch 1:  Accuracy: 0.31220, Loss:     1.6017 Validation\n",
      "Epoch 21, CIFAR-10 Batch 2:  Accuracy: 0.32960, Loss:     1.6250 Validation\n",
      "Epoch 21, CIFAR-10 Batch 3:  Accuracy: 0.34040, Loss:     1.3921 Validation\n",
      "Epoch 21, CIFAR-10 Batch 4:  Accuracy: 0.33980, Loss:     1.5307 Validation\n",
      "Epoch 21, CIFAR-10 Batch 5:  Accuracy: 0.32980, Loss:     1.3958 Validation\n",
      "Epoch 22, CIFAR-10 Batch 1:  Accuracy: 0.33060, Loss:     1.5721 Validation\n",
      "Epoch 22, CIFAR-10 Batch 2:  Accuracy: 0.31420, Loss:     1.6348 Validation\n",
      "Epoch 22, CIFAR-10 Batch 3:  Accuracy: 0.33080, Loss:     1.3910 Validation\n",
      "Epoch 22, CIFAR-10 Batch 4:  Accuracy: 0.33740, Loss:     1.5448 Validation\n",
      "Epoch 22, CIFAR-10 Batch 5:  Accuracy: 0.32660, Loss:     1.4510 Validation\n",
      "Epoch 23, CIFAR-10 Batch 1:  Accuracy: 0.34300, Loss:     1.5783 Validation\n",
      "Epoch 23, CIFAR-10 Batch 2:  Accuracy: 0.33280, Loss:     1.5227 Validation\n",
      "Epoch 23, CIFAR-10 Batch 3:  Accuracy: 0.33680, Loss:     1.3820 Validation\n",
      "Epoch 23, CIFAR-10 Batch 4:  Accuracy: 0.32680, Loss:     1.5038 Validation\n",
      "Epoch 23, CIFAR-10 Batch 5:  Accuracy: 0.34360, Loss:     1.3491 Validation\n",
      "Epoch 24, CIFAR-10 Batch 1:  Accuracy: 0.34140, Loss:     1.5409 Validation\n",
      "Epoch 24, CIFAR-10 Batch 2:  Accuracy: 0.32660, Loss:     1.5445 Validation\n",
      "Epoch 24, CIFAR-10 Batch 3:  Accuracy: 0.32620, Loss:     1.3268 Validation\n",
      "Epoch 24, CIFAR-10 Batch 4:  Accuracy: 0.34780, Loss:     1.4516 Validation\n",
      "Epoch 24, CIFAR-10 Batch 5:  Accuracy: 0.33660, Loss:     1.3960 Validation\n",
      "Epoch 25, CIFAR-10 Batch 1:  Accuracy: 0.34060, Loss:     1.5169 Validation\n",
      "Epoch 25, CIFAR-10 Batch 2:  Accuracy: 0.32720, Loss:     1.5285 Validation\n",
      "Epoch 25, CIFAR-10 Batch 3:  Accuracy: 0.34220, Loss:     1.2940 Validation\n",
      "Epoch 25, CIFAR-10 Batch 4:  Accuracy: 0.32540, Loss:     1.5138 Validation\n",
      "Epoch 25, CIFAR-10 Batch 5:  Accuracy: 0.32400, Loss:     1.3772 Validation\n",
      "Epoch 26, CIFAR-10 Batch 1:  Accuracy: 0.33820, Loss:     1.4633 Validation\n",
      "Epoch 26, CIFAR-10 Batch 2:  Accuracy: 0.33560, Loss:     1.5121 Validation\n",
      "Epoch 26, CIFAR-10 Batch 3:  Accuracy: 0.34420, Loss:     1.3264 Validation\n",
      "Epoch 26, CIFAR-10 Batch 4:  Accuracy: 0.33940, Loss:     1.4411 Validation\n",
      "Epoch 26, CIFAR-10 Batch 5:  Accuracy: 0.33880, Loss:     1.3505 Validation\n",
      "Epoch 27, CIFAR-10 Batch 1:  Accuracy: 0.34200, Loss:     1.5326 Validation\n",
      "Epoch 27, CIFAR-10 Batch 2:  Accuracy: 0.34820, Loss:     1.4037 Validation\n",
      "Epoch 27, CIFAR-10 Batch 3:  Accuracy: 0.35160, Loss:     1.3096 Validation\n",
      "Epoch 27, CIFAR-10 Batch 4:  Accuracy: 0.35000, Loss:     1.4473 Validation\n",
      "Epoch 27, CIFAR-10 Batch 5:  Accuracy: 0.33440, Loss:     1.3321 Validation\n",
      "Epoch 28, CIFAR-10 Batch 1:  Accuracy: 0.33660, Loss:     1.4817 Validation\n",
      "Epoch 28, CIFAR-10 Batch 2:  Accuracy: 0.33740, Loss:     1.4582 Validation\n",
      "Epoch 28, CIFAR-10 Batch 3:  Accuracy: 0.35500, Loss:     1.2859 Validation\n",
      "Epoch 28, CIFAR-10 Batch 4:  Accuracy: 0.33760, Loss:     1.4845 Validation\n",
      "Epoch 28, CIFAR-10 Batch 5:  Accuracy: 0.35540, Loss:     1.3497 Validation\n",
      "Epoch 29, CIFAR-10 Batch 1:  Accuracy: 0.34420, Loss:     1.4836 Validation\n",
      "Epoch 29, CIFAR-10 Batch 2:  Accuracy: 0.34280, Loss:     1.3898 Validation\n",
      "Epoch 29, CIFAR-10 Batch 3:  Accuracy: 0.36040, Loss:     1.2931 Validation\n",
      "Epoch 29, CIFAR-10 Batch 4:  Accuracy: 0.34220, Loss:     1.4627 Validation\n",
      "Epoch 29, CIFAR-10 Batch 5:  Accuracy: 0.34860, Loss:     1.3508 Validation\n",
      "Epoch 30, CIFAR-10 Batch 1:  Accuracy: 0.34400, Loss:     1.4849 Validation\n",
      "Epoch 30, CIFAR-10 Batch 2:  Accuracy: 0.34700, Loss:     1.4174 Validation\n",
      "Epoch 30, CIFAR-10 Batch 3:  Accuracy: 0.35940, Loss:     1.2911 Validation\n",
      "Epoch 30, CIFAR-10 Batch 4:  Accuracy: 0.32760, Loss:     1.5187 Validation\n",
      "Epoch 30, CIFAR-10 Batch 5:  Accuracy: 0.34740, Loss:     1.3019 Validation\n",
      "Epoch 31, CIFAR-10 Batch 1:  Accuracy: 0.34940, Loss:     1.4650 Validation\n",
      "Epoch 31, CIFAR-10 Batch 2:  Accuracy: 0.34320, Loss:     1.4549 Validation\n",
      "Epoch 31, CIFAR-10 Batch 3:  Accuracy: 0.35920, Loss:     1.3038 Validation\n",
      "Epoch 31, CIFAR-10 Batch 4:  Accuracy: 0.34280, Loss:     1.4369 Validation\n",
      "Epoch 31, CIFAR-10 Batch 5:  Accuracy: 0.34740, Loss:     1.3105 Validation\n",
      "Epoch 32, CIFAR-10 Batch 1:  Accuracy: 0.34920, Loss:     1.4098 Validation\n",
      "Epoch 32, CIFAR-10 Batch 2:  Accuracy: 0.33700, Loss:     1.4838 Validation\n",
      "Epoch 32, CIFAR-10 Batch 3:  Accuracy: 0.35540, Loss:     1.2636 Validation\n",
      "Epoch 32, CIFAR-10 Batch 4:  Accuracy: 0.34780, Loss:     1.3844 Validation\n",
      "Epoch 32, CIFAR-10 Batch 5:  Accuracy: 0.34440, Loss:     1.3354 Validation\n",
      "Epoch 33, CIFAR-10 Batch 1:  Accuracy: 0.35380, Loss:     1.3780 Validation\n",
      "Epoch 33, CIFAR-10 Batch 2:  Accuracy: 0.35360, Loss:     1.3585 Validation\n",
      "Epoch 33, CIFAR-10 Batch 3:  Accuracy: 0.34760, Loss:     1.2049 Validation\n",
      "Epoch 33, CIFAR-10 Batch 4:  Accuracy: 0.33920, Loss:     1.4834 Validation\n",
      "Epoch 33, CIFAR-10 Batch 5:  Accuracy: 0.35380, Loss:     1.3700 Validation\n",
      "Epoch 34, CIFAR-10 Batch 1:  Accuracy: 0.35400, Loss:     1.3864 Validation\n",
      "Epoch 34, CIFAR-10 Batch 2:  Accuracy: 0.35980, Loss:     1.3843 Validation\n",
      "Epoch 34, CIFAR-10 Batch 3:  Accuracy: 0.35960, Loss:     1.3012 Validation\n",
      "Epoch 34, CIFAR-10 Batch 4:  Accuracy: 0.34560, Loss:     1.3932 Validation\n",
      "Epoch 34, CIFAR-10 Batch 5:  Accuracy: 0.37100, Loss:     1.2448 Validation\n",
      "Epoch 35, CIFAR-10 Batch 1:  Accuracy: 0.36380, Loss:     1.3290 Validation\n",
      "Epoch 35, CIFAR-10 Batch 2:  Accuracy: 0.33640, Loss:     1.4012 Validation\n",
      "Epoch 35, CIFAR-10 Batch 3:  Accuracy: 0.35180, Loss:     1.3397 Validation\n",
      "Epoch 35, CIFAR-10 Batch 4:  Accuracy: 0.34760, Loss:     1.3409 Validation\n",
      "Epoch 35, CIFAR-10 Batch 5:  Accuracy: 0.35540, Loss:     1.3305 Validation\n",
      "Epoch 36, CIFAR-10 Batch 1:  Accuracy: 0.35920, Loss:     1.3383 Validation\n",
      "Epoch 36, CIFAR-10 Batch 2:  Accuracy: 0.33400, Loss:     1.3832 Validation\n",
      "Epoch 36, CIFAR-10 Batch 3:  Accuracy: 0.36220, Loss:     1.2573 Validation\n",
      "Epoch 36, CIFAR-10 Batch 4:  Accuracy: 0.34300, Loss:     1.2960 Validation\n",
      "Epoch 36, CIFAR-10 Batch 5:  Accuracy: 0.36140, Loss:     1.2421 Validation\n",
      "Epoch 37, CIFAR-10 Batch 1:  Accuracy: 0.35900, Loss:     1.3487 Validation\n",
      "Epoch 37, CIFAR-10 Batch 2:  Accuracy: 0.36200, Loss:     1.3706 Validation\n",
      "Epoch 37, CIFAR-10 Batch 3:  Accuracy: 0.36640, Loss:     1.2740 Validation\n",
      "Epoch 37, CIFAR-10 Batch 4:  Accuracy: 0.36360, Loss:     1.3152 Validation\n",
      "Epoch 37, CIFAR-10 Batch 5:  Accuracy: 0.39680, Loss:     1.1794 Validation\n",
      "Epoch 38, CIFAR-10 Batch 1:  Accuracy: 0.38100, Loss:     1.2876 Validation\n",
      "Epoch 38, CIFAR-10 Batch 2:  Accuracy: 0.38160, Loss:     1.3463 Validation\n",
      "Epoch 38, CIFAR-10 Batch 3:  Accuracy: 0.36800, Loss:     1.2502 Validation\n",
      "Epoch 38, CIFAR-10 Batch 4:  Accuracy: 0.38460, Loss:     1.2316 Validation\n",
      "Epoch 38, CIFAR-10 Batch 5:  Accuracy: 0.39520, Loss:     1.1572 Validation\n",
      "Epoch 39, CIFAR-10 Batch 1:  Accuracy: 0.38520, Loss:     1.2989 Validation\n",
      "Epoch 39, CIFAR-10 Batch 2:  Accuracy: 0.38840, Loss:     1.3627 Validation\n",
      "Epoch 39, CIFAR-10 Batch 3:  Accuracy: 0.37240, Loss:     1.2228 Validation\n",
      "Epoch 39, CIFAR-10 Batch 4:  Accuracy: 0.39460, Loss:     1.2847 Validation\n",
      "Epoch 39, CIFAR-10 Batch 5:  Accuracy: 0.40740, Loss:     1.1339 Validation\n",
      "Epoch 40, CIFAR-10 Batch 1:  Accuracy: 0.39500, Loss:     1.2674 Validation\n",
      "Epoch 40, CIFAR-10 Batch 2:  Accuracy: 0.39880, Loss:     1.2347 Validation\n",
      "Epoch 40, CIFAR-10 Batch 3:  Accuracy: 0.38020, Loss:     1.2947 Validation\n",
      "Epoch 40, CIFAR-10 Batch 4:  Accuracy: 0.37100, Loss:     1.3214 Validation\n",
      "Epoch 40, CIFAR-10 Batch 5:  Accuracy: 0.38860, Loss:     1.1912 Validation\n",
      "Epoch 41, CIFAR-10 Batch 1:  Accuracy: 0.40280, Loss:     1.3275 Validation\n",
      "Epoch 41, CIFAR-10 Batch 2:  Accuracy: 0.40420, Loss:     1.2849 Validation\n",
      "Epoch 41, CIFAR-10 Batch 3:  Accuracy: 0.41040, Loss:     1.1020 Validation\n",
      "Epoch 41, CIFAR-10 Batch 4:  Accuracy: 0.39560, Loss:     1.3148 Validation\n",
      "Epoch 41, CIFAR-10 Batch 5:  Accuracy: 0.41340, Loss:     1.1134 Validation\n",
      "Epoch 42, CIFAR-10 Batch 1:  Accuracy: 0.40040, Loss:     1.2574 Validation\n",
      "Epoch 42, CIFAR-10 Batch 2:  Accuracy: 0.41280, Loss:     1.1860 Validation\n",
      "Epoch 42, CIFAR-10 Batch 3:  Accuracy: 0.40900, Loss:     1.0777 Validation\n",
      "Epoch 42, CIFAR-10 Batch 4:  Accuracy: 0.41600, Loss:     1.1711 Validation\n",
      "Epoch 42, CIFAR-10 Batch 5:  Accuracy: 0.41480, Loss:     1.0935 Validation\n",
      "Epoch 43, CIFAR-10 Batch 1:  Accuracy: 0.40260, Loss:     1.1693 Validation\n",
      "Epoch 43, CIFAR-10 Batch 2:  Accuracy: 0.41520, Loss:     1.2218 Validation\n",
      "Epoch 43, CIFAR-10 Batch 3:  Accuracy: 0.40660, Loss:     1.1221 Validation\n",
      "Epoch 43, CIFAR-10 Batch 4:  Accuracy: 0.39440, Loss:     1.2660 Validation\n",
      "Epoch 43, CIFAR-10 Batch 5:  Accuracy: 0.42200, Loss:     1.0660 Validation\n",
      "Epoch 44, CIFAR-10 Batch 1:  Accuracy: 0.40880, Loss:     1.1823 Validation\n",
      "Epoch 44, CIFAR-10 Batch 2:  Accuracy: 0.41040, Loss:     1.2054 Validation\n",
      "Epoch 44, CIFAR-10 Batch 3:  Accuracy: 0.41740, Loss:     1.0679 Validation\n",
      "Epoch 44, CIFAR-10 Batch 4:  Accuracy: 0.40960, Loss:     1.1184 Validation\n",
      "Epoch 44, CIFAR-10 Batch 5:  Accuracy: 0.42660, Loss:     1.0281 Validation\n",
      "Epoch 45, CIFAR-10 Batch 1:  Accuracy: 0.41360, Loss:     1.2677 Validation\n",
      "Epoch 45, CIFAR-10 Batch 2:  Accuracy: 0.41920, Loss:     1.2320 Validation\n",
      "Epoch 45, CIFAR-10 Batch 3:  Accuracy: 0.41160, Loss:     1.0287 Validation\n",
      "Epoch 45, CIFAR-10 Batch 4:  Accuracy: 0.40380, Loss:     1.1648 Validation\n",
      "Epoch 45, CIFAR-10 Batch 5:  Accuracy: 0.42200, Loss:     1.0248 Validation\n",
      "Epoch 46, CIFAR-10 Batch 1:  Accuracy: 0.40340, Loss:     1.2023 Validation\n",
      "Epoch 46, CIFAR-10 Batch 2:  Accuracy: 0.42400, Loss:     1.1502 Validation\n",
      "Epoch 46, CIFAR-10 Batch 3:  Accuracy: 0.42300, Loss:     1.0045 Validation\n",
      "Epoch 46, CIFAR-10 Batch 4:  Accuracy: 0.41100, Loss:     1.1457 Validation\n",
      "Epoch 46, CIFAR-10 Batch 5:  Accuracy: 0.42660, Loss:     1.0553 Validation\n",
      "Epoch 47, CIFAR-10 Batch 1:  Accuracy: 0.42340, Loss:     1.1038 Validation\n",
      "Epoch 47, CIFAR-10 Batch 2:  Accuracy: 0.39940, Loss:     1.2481 Validation\n",
      "Epoch 47, CIFAR-10 Batch 3:  Accuracy: 0.42400, Loss:     0.9703 Validation\n",
      "Epoch 47, CIFAR-10 Batch 4:  Accuracy: 0.41420, Loss:     1.1276 Validation\n",
      "Epoch 47, CIFAR-10 Batch 5:  Accuracy: 0.41760, Loss:     1.0708 Validation\n",
      "Epoch 48, CIFAR-10 Batch 1:  Accuracy: 0.41580, Loss:     1.0918 Validation\n",
      "Epoch 48, CIFAR-10 Batch 2:  Accuracy: 0.41200, Loss:     1.3665 Validation\n",
      "Epoch 48, CIFAR-10 Batch 3:  Accuracy: 0.42600, Loss:     1.0250 Validation\n",
      "Epoch 48, CIFAR-10 Batch 4:  Accuracy: 0.41500, Loss:     1.0434 Validation\n",
      "Epoch 48, CIFAR-10 Batch 5:  Accuracy: 0.39420, Loss:     1.0358 Validation\n",
      "Epoch 49, CIFAR-10 Batch 1:  Accuracy: 0.40780, Loss:     1.1889 Validation\n",
      "Epoch 49, CIFAR-10 Batch 2:  Accuracy: 0.42240, Loss:     1.1902 Validation\n",
      "Epoch 49, CIFAR-10 Batch 3:  Accuracy: 0.43000, Loss:     0.9994 Validation\n",
      "Epoch 49, CIFAR-10 Batch 4:  Accuracy: 0.42940, Loss:     1.0300 Validation\n",
      "Epoch 49, CIFAR-10 Batch 5:  Accuracy: 0.41980, Loss:     1.0982 Validation\n",
      "Epoch 50, CIFAR-10 Batch 1:  Accuracy: 0.42160, Loss:     1.1107 Validation\n",
      "Epoch 50, CIFAR-10 Batch 2:  Accuracy: 0.42500, Loss:     1.2341 Validation\n",
      "Epoch 50, CIFAR-10 Batch 3:  Accuracy: 0.41100, Loss:     1.0990 Validation\n",
      "Epoch 50, CIFAR-10 Batch 4:  Accuracy: 0.42760, Loss:     1.0523 Validation\n",
      "Epoch 50, CIFAR-10 Batch 5:  Accuracy: 0.42680, Loss:     1.0329 Validation\n",
      "Epoch 51, CIFAR-10 Batch 1:  Accuracy: 0.42300, Loss:     1.0954 Validation\n",
      "Epoch 51, CIFAR-10 Batch 2:  Accuracy: 0.41000, Loss:     1.2191 Validation\n",
      "Epoch 51, CIFAR-10 Batch 3:  Accuracy: 0.43320, Loss:     0.9106 Validation\n",
      "Epoch 51, CIFAR-10 Batch 4:  Accuracy: 0.40920, Loss:     1.1096 Validation\n",
      "Epoch 51, CIFAR-10 Batch 5:  Accuracy: 0.42700, Loss:     0.9678 Validation\n",
      "Epoch 52, CIFAR-10 Batch 1:  Accuracy: 0.43800, Loss:     1.0457 Validation\n",
      "Epoch 52, CIFAR-10 Batch 2:  Accuracy: 0.42560, Loss:     1.1937 Validation\n",
      "Epoch 52, CIFAR-10 Batch 3:  Accuracy: 0.42680, Loss:     0.9320 Validation\n",
      "Epoch 52, CIFAR-10 Batch 4:  Accuracy: 0.42560, Loss:     1.0224 Validation\n",
      "Epoch 52, CIFAR-10 Batch 5:  Accuracy: 0.42240, Loss:     0.9777 Validation\n",
      "Epoch 53, CIFAR-10 Batch 1:  Accuracy: 0.42240, Loss:     1.0455 Validation\n",
      "Epoch 53, CIFAR-10 Batch 2:  Accuracy: 0.43400, Loss:     1.0803 Validation\n",
      "Epoch 53, CIFAR-10 Batch 3:  Accuracy: 0.43340, Loss:     0.8921 Validation\n",
      "Epoch 53, CIFAR-10 Batch 4:  Accuracy: 0.40780, Loss:     1.0258 Validation\n",
      "Epoch 53, CIFAR-10 Batch 5:  Accuracy: 0.43780, Loss:     0.9450 Validation\n",
      "Epoch 54, CIFAR-10 Batch 1:  Accuracy: 0.43280, Loss:     1.0350 Validation\n",
      "Epoch 54, CIFAR-10 Batch 2:  Accuracy: 0.42760, Loss:     1.1160 Validation\n",
      "Epoch 54, CIFAR-10 Batch 3:  Accuracy: 0.42720, Loss:     0.9344 Validation\n",
      "Epoch 54, CIFAR-10 Batch 4:  Accuracy: 0.41360, Loss:     0.9553 Validation\n",
      "Epoch 54, CIFAR-10 Batch 5:  Accuracy: 0.42460, Loss:     0.9946 Validation\n",
      "Epoch 55, CIFAR-10 Batch 1:  Accuracy: 0.42620, Loss:     1.0397 Validation\n",
      "Epoch 55, CIFAR-10 Batch 2:  Accuracy: 0.44200, Loss:     1.1653 Validation\n",
      "Epoch 55, CIFAR-10 Batch 3:  Accuracy: 0.43740, Loss:     0.8682 Validation\n",
      "Epoch 55, CIFAR-10 Batch 4:  Accuracy: 0.44240, Loss:     0.9191 Validation\n",
      "Epoch 55, CIFAR-10 Batch 5:  Accuracy: 0.43540, Loss:     0.9315 Validation\n",
      "Epoch 56, CIFAR-10 Batch 1:  Accuracy: 0.42760, Loss:     1.0064 Validation\n",
      "Epoch 56, CIFAR-10 Batch 2:  Accuracy: 0.42680, Loss:     1.1239 Validation\n",
      "Epoch 56, CIFAR-10 Batch 3:  Accuracy: 0.42960, Loss:     0.9860 Validation\n",
      "Epoch 56, CIFAR-10 Batch 4:  Accuracy: 0.44300, Loss:     0.9632 Validation\n",
      "Epoch 56, CIFAR-10 Batch 5:  Accuracy: 0.43140, Loss:     0.9668 Validation\n",
      "Epoch 57, CIFAR-10 Batch 1:  Accuracy: 0.42640, Loss:     1.1211 Validation\n",
      "Epoch 57, CIFAR-10 Batch 2:  Accuracy: 0.42560, Loss:     1.0934 Validation\n",
      "Epoch 57, CIFAR-10 Batch 3:  Accuracy: 0.44220, Loss:     0.8334 Validation\n",
      "Epoch 57, CIFAR-10 Batch 4:  Accuracy: 0.43460, Loss:     0.9378 Validation\n",
      "Epoch 57, CIFAR-10 Batch 5:  Accuracy: 0.43000, Loss:     0.9579 Validation\n",
      "Epoch 58, CIFAR-10 Batch 1:  Accuracy: 0.44400, Loss:     1.0513 Validation\n",
      "Epoch 58, CIFAR-10 Batch 2:  Accuracy: 0.44000, Loss:     1.0258 Validation\n",
      "Epoch 58, CIFAR-10 Batch 3:  Accuracy: 0.43700, Loss:     0.8423 Validation\n",
      "Epoch 58, CIFAR-10 Batch 4:  Accuracy: 0.43400, Loss:     0.9678 Validation\n",
      "Epoch 58, CIFAR-10 Batch 5:  Accuracy: 0.43460, Loss:     0.9102 Validation\n",
      "Epoch 59, CIFAR-10 Batch 1:  Accuracy: 0.43700, Loss:     1.0014 Validation\n",
      "Epoch 59, CIFAR-10 Batch 2:  Accuracy: 0.44100, Loss:     1.0325 Validation\n",
      "Epoch 59, CIFAR-10 Batch 3:  Accuracy: 0.44540, Loss:     0.7983 Validation\n",
      "Epoch 59, CIFAR-10 Batch 4:  Accuracy: 0.43260, Loss:     1.0124 Validation\n",
      "Epoch 59, CIFAR-10 Batch 5:  Accuracy: 0.41680, Loss:     1.0416 Validation\n",
      "Epoch 60, CIFAR-10 Batch 1:  Accuracy: 0.43360, Loss:     1.0155 Validation\n",
      "Epoch 60, CIFAR-10 Batch 2:  Accuracy: 0.43940, Loss:     1.0379 Validation\n",
      "Epoch 60, CIFAR-10 Batch 3:  Accuracy: 0.43940, Loss:     0.8899 Validation\n",
      "Epoch 60, CIFAR-10 Batch 4:  Accuracy: 0.44660, Loss:     0.9205 Validation\n",
      "Epoch 60, CIFAR-10 Batch 5:  Accuracy: 0.43920, Loss:     0.9430 Validation\n",
      "Epoch 61, CIFAR-10 Batch 1:  Accuracy: 0.44920, Loss:     0.9976 Validation\n",
      "Epoch 61, CIFAR-10 Batch 2:  Accuracy: 0.42760, Loss:     1.1216 Validation\n",
      "Epoch 61, CIFAR-10 Batch 3:  Accuracy: 0.44200, Loss:     0.8724 Validation\n",
      "Epoch 61, CIFAR-10 Batch 4:  Accuracy: 0.43460, Loss:     0.9425 Validation\n",
      "Epoch 61, CIFAR-10 Batch 5:  Accuracy: 0.43380, Loss:     0.9761 Validation\n",
      "Epoch 62, CIFAR-10 Batch 1:  Accuracy: 0.44340, Loss:     0.9862 Validation\n",
      "Epoch 62, CIFAR-10 Batch 2:  Accuracy: 0.45260, Loss:     0.9255 Validation\n",
      "Epoch 62, CIFAR-10 Batch 3:  Accuracy: 0.42860, Loss:     0.9175 Validation\n",
      "Epoch 62, CIFAR-10 Batch 4:  Accuracy: 0.42940, Loss:     1.0610 Validation\n",
      "Epoch 62, CIFAR-10 Batch 5:  Accuracy: 0.41060, Loss:     0.9683 Validation\n",
      "Epoch 63, CIFAR-10 Batch 1:  Accuracy: 0.42760, Loss:     1.0611 Validation\n",
      "Epoch 63, CIFAR-10 Batch 2:  Accuracy: 0.42060, Loss:     1.0742 Validation\n",
      "Epoch 63, CIFAR-10 Batch 3:  Accuracy: 0.44620, Loss:     0.8077 Validation\n",
      "Epoch 63, CIFAR-10 Batch 4:  Accuracy: 0.44020, Loss:     0.8898 Validation\n",
      "Epoch 63, CIFAR-10 Batch 5:  Accuracy: 0.41560, Loss:     0.9624 Validation\n",
      "Epoch 64, CIFAR-10 Batch 1:  Accuracy: 0.43340, Loss:     0.9430 Validation\n",
      "Epoch 64, CIFAR-10 Batch 2:  Accuracy: 0.42420, Loss:     1.0050 Validation\n",
      "Epoch 64, CIFAR-10 Batch 3:  Accuracy: 0.44400, Loss:     0.7979 Validation\n",
      "Epoch 64, CIFAR-10 Batch 4:  Accuracy: 0.43700, Loss:     0.9275 Validation\n",
      "Epoch 64, CIFAR-10 Batch 5:  Accuracy: 0.43060, Loss:     0.8742 Validation\n"
     ]
    }
   ],
   "source": [
    "\"\"\"\n",
    "DON'T MODIFY ANYTHING IN THIS CELL\n",
    "\"\"\"\n",
    "save_model_path = './image_classification'\n",
    "\n",
    "print('Training...')\n",
    "with tf.Session() as sess:\n",
    "    # Initializing the variables\n",
    "    sess.run(tf.global_variables_initializer())\n",
    "    \n",
    "    # Training cycle\n",
    "    for epoch in range(epochs):\n",
    "        # Loop over all batches\n",
    "        n_batches = 5\n",
    "        for batch_i in range(1, n_batches + 1):\n",
    "            for batch_features, batch_labels in helper.load_preprocess_training_batch(batch_i, batch_size):\n",
    "                train_neural_network(sess, optimizer, keep_probability, batch_features, batch_labels)\n",
    "            print('Epoch {:>2}, CIFAR-10 Batch {}:  '.format(epoch + 1, batch_i), end='')\n",
    "            print_stats(sess, batch_features, batch_labels, cost, accuracy)\n",
    "            \n",
    "    # Save Model\n",
    "    saver = tf.train.Saver()\n",
    "    save_path = saver.save(sess, save_model_path)"
   ]
  },
  {
   "cell_type": "markdown",
   "metadata": {
    "deletable": true,
    "editable": true
   },
   "source": [
    "# Checkpoint\n",
    "The model has been saved to disk.\n",
    "## Test Model\n",
    "Test your model against the test dataset.  This will be your final accuracy. You should have an accuracy greater than 50%. If you don't, keep tweaking the model architecture and parameters."
   ]
  },
  {
   "cell_type": "code",
   "execution_count": 85,
   "metadata": {
    "collapsed": false,
    "deletable": true,
    "editable": true
   },
   "outputs": [
    {
     "name": "stdout",
     "output_type": "stream",
     "text": [
      "Testing Accuracy: 0.42236328125\n",
      "\n"
     ]
    },
    {
     "data": {
      "image/png": "[encoded data removed]",
      "text/plain": [
       "<matplotlib.figure.Figure at 0x7f9b3f9a6cc0>"
      ]
     },
     "metadata": {
      "image/png": {
       "height": 319,
       "width": 355
      }
     },
     "output_type": "display_data"
    }
   ],
   "source": [
    "\"\"\"\n",
    "DON'T MODIFY ANYTHING IN THIS CELL\n",
    "\"\"\"\n",
    "%matplotlib inline\n",
    "%config InlineBackend.figure_format = 'retina'\n",
    "\n",
    "import tensorflow as tf\n",
    "import pickle\n",
    "import helper\n",
    "import random\n",
    "\n",
    "# Set batch size if not already set\n",
    "try:\n",
    "    if batch_size:\n",
    "        pass\n",
    "except NameError:\n",
    "    batch_size = 64\n",
    "\n",
    "save_model_path = './image_classification'\n",
    "n_samples = 4\n",
    "top_n_predictions = 3\n",
    "\n",
    "def test_model():\n",
    "    \"\"\"\n",
    "    Test the saved model against the test dataset\n",
    "    \"\"\"\n",
    "\n",
    "    test_features, test_labels = pickle.load(open('preprocess_training.p', mode='rb'))\n",
    "    loaded_graph = tf.Graph()\n",
    "\n",
    "    with tf.Session(graph=loaded_graph) as sess:\n",
    "        # Load model\n",
    "        loader = tf.train.import_meta_graph(save_model_path + '.meta')\n",
    "        loader.restore(sess, save_model_path)\n",
    "\n",
    "        # Get Tensors from loaded model\n",
    "        loaded_x = loaded_graph.get_tensor_by_name('x:0')\n",
    "        loaded_y = loaded_graph.get_tensor_by_name('y:0')\n",
    "        loaded_keep_prob = loaded_graph.get_tensor_by_name('keep_prob:0')\n",
    "        loaded_logits = loaded_graph.get_tensor_by_name('logits:0')\n",
    "        loaded_acc = loaded_graph.get_tensor_by_name('accuracy:0')\n",
    "        \n",
    "        # Get accuracy in batches for memory limitations\n",
    "        test_batch_acc_total = 0\n",
    "        test_batch_count = 0\n",
    "        \n",
    "        for train_feature_batch, train_label_batch in helper.batch_features_labels(test_features, test_labels, batch_size):\n",
    "            test_batch_acc_total += sess.run(\n",
    "                loaded_acc,\n",
    "                feed_dict={loaded_x: train_feature_batch, loaded_y: train_label_batch, loaded_keep_prob: 1.0})\n",
    "            test_batch_count += 1\n",
    "\n",
    "        print('Testing Accuracy: {}\\n'.format(test_batch_acc_total/test_batch_count))\n",
    "\n",
    "        # Print Random Samples\n",
    "        random_test_features, random_test_labels = tuple(zip(*random.sample(list(zip(test_features, test_labels)), n_samples)))\n",
    "        random_test_predictions = sess.run(\n",
    "            tf.nn.top_k(tf.nn.softmax(loaded_logits), top_n_predictions),\n",
    "            feed_dict={loaded_x: random_test_features, loaded_y: random_test_labels, loaded_keep_prob: 1.0})\n",
    "        helper.display_image_predictions(random_test_features, random_test_labels, random_test_predictions)\n",
    "\n",
    "\n",
    "test_model()"
   ]
  },
  {
   "cell_type": "markdown",
   "metadata": {
    "deletable": true,
    "editable": true
   },
   "source": [
    "## Why 50-80% Accuracy?\n",
    "You might be wondering why you can't get an accuracy any higher. First things first, 50% isn't bad for a simple CNN.  Pure guessing would get you 10% accuracy. However, you might notice people are getting scores [well above 80%](http://rodrigob.github.io/are_we_there_yet/build/classification_datasets_results.html#43494641522d3130).  That's because we haven't taught you all there is to know about neural networks. We still need to cover a few more techniques.\n",
    "## Submitting This Project\n",
    "When submitting this project, make sure to run all the cells before saving the notebook.  Save the notebook file as \"dlnd_image_classification.ipynb\" and save it as a HTML file under \"File\" -> \"Download as\".  Include the \"helper.py\" and \"problem_unittests.py\" files in your submission."
   ]
  }
 ],
 "metadata": {
  "kernelspec": {
   "display_name": "Python 3",
   "language": "python",
   "name": "python3"
  },
  "language_info": {
   "codemirror_mode": {
    "name": "ipython",
    "version": 3
   },
   "file_extension": ".py",
   "mimetype": "text/x-python",
   "name": "python",
   "nbconvert_exporter": "python",
   "pygments_lexer": "ipython3",
   "version": "3.5.2"
  },
  "widgets": {
   "state": {},
   "version": "1.1.2"
  }
 },
 "nbformat": 4,
 "nbformat_minor": 0
}
